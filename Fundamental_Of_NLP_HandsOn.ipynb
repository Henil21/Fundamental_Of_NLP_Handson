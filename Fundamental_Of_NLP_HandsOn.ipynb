{
  "nbformat": 4,
  "nbformat_minor": 0,
  "metadata": {
    "colab": {
      "provenance": [],
      "authorship_tag": "ABX9TyOmwrPcnTA0maQnLdbXylwa",
      "include_colab_link": true
    },
    "kernelspec": {
      "name": "python3",
      "display_name": "Python 3"
    },
    "language_info": {
      "name": "python"
    }
  },
  "cells": [
    {
      "cell_type": "markdown",
      "metadata": {
        "id": "view-in-github",
        "colab_type": "text"
      },
      "source": [
        "<a href=\"https://colab.research.google.com/github/Henil21/Fundamental_Of_NLP_Handson-/blob/main/Fundamental_Of_NLP_HandsOn.ipynb\" target=\"_parent\"><img src=\"https://colab.research.google.com/assets/colab-badge.svg\" alt=\"Open In Colab\"/></a>"
      ]
    },
    {
      "cell_type": "markdown",
      "source": [
        "# Chapter 2 Text Representation and Preprocessing"
      ],
      "metadata": {
        "id": "RsxUBWBw6y5s"
      }
    },
    {
      "cell_type": "code",
      "execution_count": null,
      "metadata": {
        "colab": {
          "base_uri": "https://localhost:8080/"
        },
        "id": "cPJY4CqbpnVm",
        "outputId": "66a24e81-5a4b-4f9e-e0e8-039a0824ff97"
      },
      "outputs": [
        {
          "output_type": "stream",
          "name": "stderr",
          "text": [
            "[nltk_data] Downloading package punkt to /root/nltk_data...\n",
            "[nltk_data]   Package punkt is already up-to-date!\n",
            "[nltk_data] Downloading package stopwords to /root/nltk_data...\n",
            "[nltk_data]   Package stopwords is already up-to-date!\n"
          ]
        },
        {
          "output_type": "stream",
          "name": "stdout",
          "text": [
            "Bag-of-Words feature names: ['unk']\n",
            "Bag-of-Words matrix:\n",
            " [[3]\n",
            " [2]\n",
            " [4]]\n",
            "TF-IDF feature names: ['unk']\n",
            "TF-IDF matrix:\n",
            " [[1.]\n",
            " [1.]\n",
            " [1.]]\n"
          ]
        }
      ],
      "source": [
        "import re\n",
        "import nltk\n",
        "import spacy\n",
        "from nltk.corpus import stopwords\n",
        "from nltk.stem import PorterStemmer\n",
        "from textblob import TextBlob\n",
        "from collections import Counter\n",
        "from sklearn.feature_extraction.text import CountVectorizer, TfidfVectorizer\n",
        "\n",
        "# Download resources (run once)\n",
        "nltk.download('punkt_tab', quiet=True) # Download punkt_tab\n",
        "nltk.download('punkt')\n",
        "nltk.download('stopwords')\n",
        "nlp = spacy.load(\"en_core_web_sm\")\n",
        "\n",
        "def preprocess_text(text, keep_negations=True, use_lemmatization=True, min_freq=2):\n",
        "    \"\"\"\n",
        "    Preprocess raw text into clean tokens for NLP tasks.\n",
        "    \"\"\"\n",
        "    # 1. Cleaning\n",
        "    text = re.sub(r\"http\\S+|www\\S+\", \"\", text)\n",
        "    text = re.sub(r\"<.*?>\", \"\", text)\n",
        "    text = re.sub(r\"[^\\w\\s]\", \"\", text)\n",
        "\n",
        "    # 2. Lowercasing\n",
        "    text = text.lower()\n",
        "\n",
        "    # 3. Tokenization\n",
        "    tokens = nltk.word_tokenize(text)\n",
        "\n",
        "    # 4. Stopword removal\n",
        "    stop_words = set(stopwords.words('english'))\n",
        "    tokens = [w for w in tokens if w not in stop_words]\n",
        "\n",
        "    # 5. Handle negations\n",
        "    if keep_negations:\n",
        "        result = []\n",
        "        skip = False\n",
        "        for i in range(len(tokens)-1):\n",
        "            if tokens[i] == \"not\":\n",
        "                result.append(tokens[i] + \"_\" + tokens[i+1])\n",
        "                skip = True\n",
        "            elif skip:\n",
        "                skip = False\n",
        "            else:\n",
        "                result.append(tokens[i])\n",
        "        if not skip:\n",
        "            result.append(tokens[-1])\n",
        "        tokens = result\n",
        "\n",
        "    # 6. Normalization\n",
        "    if use_lemmatization:\n",
        "        doc = nlp(\" \".join(tokens))\n",
        "        tokens = [token.lemma_ for token in doc]\n",
        "    else:\n",
        "        ps = PorterStemmer()\n",
        "        tokens = [ps.stem(w) for w in tokens]\n",
        "\n",
        "    # 7. Spelling correction\n",
        "    tokens = [str(TextBlob(w).correct()) for w in tokens]\n",
        "\n",
        "    # 8. Handle rare words\n",
        "    freq = Counter(tokens)\n",
        "    tokens = [w if freq[w] >= min_freq else \"<UNK>\" for w in tokens]\n",
        "\n",
        "    return tokens\n",
        "\n",
        "# ------------------------------\n",
        "# Example with dummy data\n",
        "# ------------------------------\n",
        "dummy_texts = [\n",
        "    \"The movie was AMAZING!!! I loved it.\",\n",
        "    \"I did not like the movie at all.\",\n",
        "    \"What an awesome film, truly enjoyed it.\"\n",
        "]\n",
        "\n",
        "# Preprocess each document\n",
        "preprocessed_docs = [\" \".join(preprocess_text(doc)) for doc in dummy_texts]\n",
        "\n",
        "# Bag-of-Words\n",
        "bow_vectorizer = CountVectorizer()\n",
        "bow_matrix = bow_vectorizer.fit_transform(preprocessed_docs)\n",
        "print(\"Bag-of-Words feature names:\", bow_vectorizer.get_feature_names_out())\n",
        "print(\"Bag-of-Words matrix:\\n\", bow_matrix.toarray())\n",
        "\n",
        "# TF-IDF\n",
        "tfidf_vectorizer = TfidfVectorizer()\n",
        "tfidf_matrix = tfidf_vectorizer.fit_transform(preprocessed_docs)\n",
        "print(\"TF-IDF feature names:\", tfidf_vectorizer.get_feature_names_out())\n",
        "print(\"TF-IDF matrix:\\n\", tfidf_matrix.toarray())"
      ]
    },
    {
      "cell_type": "markdown",
      "source": [
        "# Chapter 3 Classical NLP Models and Techniques"
      ],
      "metadata": {
        "id": "ndudsVng66LA"
      }
    },
    {
      "cell_type": "markdown",
      "source": [
        "## 3.2 Part Of Speech tagging"
      ],
      "metadata": {
        "id": "D18doZdih7Ji"
      }
    },
    {
      "cell_type": "code",
      "source": [
        "import spacy\n",
        "import matplotlib.pyplot as plt\n",
        "from matplotlib.patches import Rectangle\n",
        "\n",
        "# Load English model\n",
        "nlp = spacy.load(\"en_core_web_sm\")\n",
        "\n",
        "# Input sentence\n",
        "sentence = \"A quick brown fox jumps over the lazy dog\"\n",
        "doc = nlp(sentence)\n",
        "\n",
        "# Extract words and their POS tags\n",
        "words = [token.text for token in doc]\n",
        "pos_tags = [token.pos_ for token in doc]\n",
        "\n",
        "# Create figure Using Matplotlib\n",
        "plt.figure(figsize=(14, 3))\n",
        "ax = plt.gca()\n",
        "ax.set_xlim(0, len(words))\n",
        "ax.set_ylim(-1, 2)\n",
        "ax.axis(\"off\")\n",
        "\n",
        "# Draw each word with a box and its POS tag\n",
        "for i, (word, pos) in enumerate(zip(words, pos_tags)):\n",
        "    # Draw rectangle for the word\n",
        "    rect = Rectangle((i, 0.2), 0.9, 0.5, facecolor=\"lightblue\", edgecolor=\"black\", linewidth=1.2)\n",
        "    ax.add_patch(rect)\n",
        "    # Add word inside the box\n",
        "    plt.text(i+0.45, 0.45, word, ha=\"center\", va=\"center\", fontsize=12, weight=\"bold\")\n",
        "    # Add POS tag below the box\n",
        "    plt.text(i+0.45, -0.1, pos, ha=\"center\", va=\"center\", fontsize=10, color=\"darkred\")\n",
        "\n",
        "plt.title(\"Part-of-Speech Tagging\", fontsize=14, weight=\"bold\")\n",
        "plt.tight_layout()\n",
        "plt.show()"
      ],
      "metadata": {
        "colab": {
          "base_uri": "https://localhost:8080/",
          "height": 251
        },
        "id": "yUELAqg17FPW",
        "outputId": "a5de2bb0-1658-42e4-8933-b36a1b7e019b"
      },
      "execution_count": null,
      "outputs": [
        {
          "output_type": "display_data",
          "data": {
            "text/plain": [
              "<Figure size 1400x300 with 1 Axes>"
            ],
            "image/png": "[encoded data removed]"
          },
          "metadata": {}
        }
      ]
    },
    {
      "cell_type": "markdown",
      "source": [
        "## 3.3 Name Entitiy recognition"
      ],
      "metadata": {
        "id": "GkAujSke6_v4"
      }
    },
    {
      "cell_type": "code",
      "source": [
        "# Install spaCy if not already installed\n",
        "# !pip install spacy\n",
        "\n",
        "import spacy\n",
        "from spacy import displacy\n",
        "\n",
        "# Load English model\n",
        "nlp = spacy.load(\"en_core_web_sm\")\n",
        "\n",
        "# Example text\n",
        "text=\"ISRO launched Chandrayaan-3 from the Satish Dhawan Space Centre in 2023\"\n",
        "# Process text\n",
        "doc = nlp(text)\n",
        "\n",
        "# Print detected entities with labels\n",
        "print(\"Named Entities, Phrases, and Labels:\")\n",
        "for ent in doc.ents:\n",
        "    print(f\"{ent.text} -> {ent.label_}\")\n",
        "\n",
        "# Visualize entities in a Jupyter Notebook or Streamlit\n",
        "displacy.render(doc, style=\"ent\", jupyter=True)\n"
      ],
      "metadata": {
        "colab": {
          "base_uri": "https://localhost:8080/",
          "height": 121
        },
        "id": "1iNL4odTwDoV",
        "outputId": "fe87ccc6-7e9a-4908-9fff-2dad8cbd1e0a"
      },
      "execution_count": null,
      "outputs": [
        {
          "output_type": "stream",
          "name": "stdout",
          "text": [
            "Named Entities, Phrases, and Labels:\n",
            "ISRO -> ORG\n",
            "the Satish Dhawan Space Centre -> ORG\n",
            "2023 -> DATE\n"
          ]
        },
        {
          "output_type": "display_data",
          "data": {
            "text/plain": [
              "<IPython.core.display.HTML object>"
            ],
            "text/html": [
              "<span class=\"tex2jax_ignore\"><div class=\"entities\" style=\"line-height: 2.5; direction: ltr\">\n",
              "<mark class=\"entity\" style=\"background: #7aecec; padding: 0.45em 0.6em; margin: 0 0.25em; line-height: 1; border-radius: 0.35em;\">\n",
              "    ISRO\n",
              "    <span style=\"font-size: 0.8em; font-weight: bold; line-height: 1; border-radius: 0.35em; vertical-align: middle; margin-left: 0.5rem\">ORG</span>\n",
              "</mark>\n",
              " launched Chandrayaan-3 from \n",
              "<mark class=\"entity\" style=\"background: #7aecec; padding: 0.45em 0.6em; margin: 0 0.25em; line-height: 1; border-radius: 0.35em;\">\n",
              "    the Satish Dhawan Space Centre\n",
              "    <span style=\"font-size: 0.8em; font-weight: bold; line-height: 1; border-radius: 0.35em; vertical-align: middle; margin-left: 0.5rem\">ORG</span>\n",
              "</mark>\n",
              " in \n",
              "<mark class=\"entity\" style=\"background: #bfe1d9; padding: 0.45em 0.6em; margin: 0 0.25em; line-height: 1; border-radius: 0.35em;\">\n",
              "    2023\n",
              "    <span style=\"font-size: 0.8em; font-weight: bold; line-height: 1; border-radius: 0.35em; vertical-align: middle; margin-left: 0.5rem\">DATE</span>\n",
              "</mark>\n",
              "</div></span>"
            ]
          },
          "metadata": {}
        }
      ]
    },
    {
      "cell_type": "markdown",
      "source": [
        "## 3.4 Syntactic Parsing and Chunking"
      ],
      "metadata": {
        "id": "AV822KeOETBC"
      }
    },
    {
      "cell_type": "code",
      "source": [
        "# Install spaCy if not already installed\n",
        "# !pip install spacy\n",
        "\n",
        "import spacy\n",
        "from spacy import displacy\n",
        "\n",
        "# Load English model\n",
        "nlp = spacy.load(\"en_core_web_sm\")\n",
        "\n",
        "# Example sentence\n",
        "text = \"The quick brown fox jumps over the lazy dog near the river bank.\"\n",
        "doc = nlp(text)\n",
        "\n",
        "# --- Dependency Parsing ---\n",
        "print(\"Dependency Parsing (Head -> Dependent):\")\n",
        "for token in doc:\n",
        "    print(f\"{token.text:10} ({token.dep_}) --> {token.head.text}\")\n",
        "\n",
        "# Visualize dependency tree (works in Jupyter/Streamlit)\n",
        "displacy.render(doc, style=\"dep\", jupyter=True)\n",
        "\n",
        "# --- Chunking (Noun Phrases) ---\n",
        "print(\"\\nNoun Phrases (Chunks):\")\n",
        "for chunk in doc.noun_chunks:\n",
        "    print(chunk.text)\n"
      ],
      "metadata": {
        "colab": {
          "base_uri": "https://localhost:8080/",
          "height": 788
        },
        "id": "wigP7XHpESEZ",
        "outputId": "b9aab729-16b2-4ed9-bfa4-b3e482dbccb2"
      },
      "execution_count": null,
      "outputs": [
        {
          "output_type": "stream",
          "name": "stdout",
          "text": [
            "Dependency Parsing (Head -> Dependent):\n",
            "The        (det) --> fox\n",
            "quick      (amod) --> fox\n",
            "brown      (amod) --> fox\n",
            "fox        (nsubj) --> jumps\n",
            "jumps      (ROOT) --> jumps\n",
            "over       (prep) --> jumps\n",
            "the        (det) --> dog\n",
            "lazy       (amod) --> dog\n",
            "dog        (pobj) --> over\n",
            "near       (prep) --> dog\n",
            "the        (det) --> bank\n",
            "river      (compound) --> bank\n",
            "bank       (pobj) --> near\n",
            ".          (punct) --> jumps\n"
          ]
        },
        {
          "output_type": "display_data",
          "data": {
            "text/plain": [
              "<IPython.core.display.HTML object>"
            ],
            "text/html": [
              "<span class=\"tex2jax_ignore\"><svg xmlns=\"http://www.w3.org/2000/svg\" xmlns:xlink=\"http://www.w3.org/1999/xlink\" xml:lang=\"en\" id=\"b49fb869574744b8a15aada29299bc0d-0\" class=\"displacy\" width=\"2325\" height=\"399.5\" direction=\"ltr\" style=\"max-width: none; height: 399.5px; color: #000000; background: #ffffff; font-family: Arial; direction: ltr\">\n",
              "<text class=\"displacy-token\" fill=\"currentColor\" text-anchor=\"middle\" y=\"309.5\">\n",
              "    <tspan class=\"displacy-word\" fill=\"currentColor\" x=\"50\">The</tspan>\n",
              "    <tspan class=\"displacy-tag\" dy=\"2em\" fill=\"currentColor\" x=\"50\">DET</tspan>\n",
              "</text>\n",
              "\n",
              "<text class=\"displacy-token\" fill=\"currentColor\" text-anchor=\"middle\" y=\"309.5\">\n",
              "    <tspan class=\"displacy-word\" fill=\"currentColor\" x=\"225\">quick</tspan>\n",
              "    <tspan class=\"displacy-tag\" dy=\"2em\" fill=\"currentColor\" x=\"225\">ADJ</tspan>\n",
              "</text>\n",
              "\n",
              "<text class=\"displacy-token\" fill=\"currentColor\" text-anchor=\"middle\" y=\"309.5\">\n",
              "    <tspan class=\"displacy-word\" fill=\"currentColor\" x=\"400\">brown</tspan>\n",
              "    <tspan class=\"displacy-tag\" dy=\"2em\" fill=\"currentColor\" x=\"400\">ADJ</tspan>\n",
              "</text>\n",
              "\n",
              "<text class=\"displacy-token\" fill=\"currentColor\" text-anchor=\"middle\" y=\"309.5\">\n",
              "    <tspan class=\"displacy-word\" fill=\"currentColor\" x=\"575\">fox</tspan>\n",
              "    <tspan class=\"displacy-tag\" dy=\"2em\" fill=\"currentColor\" x=\"575\">NOUN</tspan>\n",
              "</text>\n",
              "\n",
              "<text class=\"displacy-token\" fill=\"currentColor\" text-anchor=\"middle\" y=\"309.5\">\n",
              "    <tspan class=\"displacy-word\" fill=\"currentColor\" x=\"750\">jumps</tspan>\n",
              "    <tspan class=\"displacy-tag\" dy=\"2em\" fill=\"currentColor\" x=\"750\">VERB</tspan>\n",
              "</text>\n",
              "\n",
              "<text class=\"displacy-token\" fill=\"currentColor\" text-anchor=\"middle\" y=\"309.5\">\n",
              "    <tspan class=\"displacy-word\" fill=\"currentColor\" x=\"925\">over</tspan>\n",
              "    <tspan class=\"displacy-tag\" dy=\"2em\" fill=\"currentColor\" x=\"925\">ADP</tspan>\n",
              "</text>\n",
              "\n",
              "<text class=\"displacy-token\" fill=\"currentColor\" text-anchor=\"middle\" y=\"309.5\">\n",
              "    <tspan class=\"displacy-word\" fill=\"currentColor\" x=\"1100\">the</tspan>\n",
              "    <tspan class=\"displacy-tag\" dy=\"2em\" fill=\"currentColor\" x=\"1100\">DET</tspan>\n",
              "</text>\n",
              "\n",
              "<text class=\"displacy-token\" fill=\"currentColor\" text-anchor=\"middle\" y=\"309.5\">\n",
              "    <tspan class=\"displacy-word\" fill=\"currentColor\" x=\"1275\">lazy</tspan>\n",
              "    <tspan class=\"displacy-tag\" dy=\"2em\" fill=\"currentColor\" x=\"1275\">ADJ</tspan>\n",
              "</text>\n",
              "\n",
              "<text class=\"displacy-token\" fill=\"currentColor\" text-anchor=\"middle\" y=\"309.5\">\n",
              "    <tspan class=\"displacy-word\" fill=\"currentColor\" x=\"1450\">dog</tspan>\n",
              "    <tspan class=\"displacy-tag\" dy=\"2em\" fill=\"currentColor\" x=\"1450\">NOUN</tspan>\n",
              "</text>\n",
              "\n",
              "<text class=\"displacy-token\" fill=\"currentColor\" text-anchor=\"middle\" y=\"309.5\">\n",
              "    <tspan class=\"displacy-word\" fill=\"currentColor\" x=\"1625\">near</tspan>\n",
              "    <tspan class=\"displacy-tag\" dy=\"2em\" fill=\"currentColor\" x=\"1625\">ADP</tspan>\n",
              "</text>\n",
              "\n",
              "<text class=\"displacy-token\" fill=\"currentColor\" text-anchor=\"middle\" y=\"309.5\">\n",
              "    <tspan class=\"displacy-word\" fill=\"currentColor\" x=\"1800\">the</tspan>\n",
              "    <tspan class=\"displacy-tag\" dy=\"2em\" fill=\"currentColor\" x=\"1800\">DET</tspan>\n",
              "</text>\n",
              "\n",
              "<text class=\"displacy-token\" fill=\"currentColor\" text-anchor=\"middle\" y=\"309.5\">\n",
              "    <tspan class=\"displacy-word\" fill=\"currentColor\" x=\"1975\">river</tspan>\n",
              "    <tspan class=\"displacy-tag\" dy=\"2em\" fill=\"currentColor\" x=\"1975\">NOUN</tspan>\n",
              "</text>\n",
              "\n",
              "<text class=\"displacy-token\" fill=\"currentColor\" text-anchor=\"middle\" y=\"309.5\">\n",
              "    <tspan class=\"displacy-word\" fill=\"currentColor\" x=\"2150\">bank.</tspan>\n",
              "    <tspan class=\"displacy-tag\" dy=\"2em\" fill=\"currentColor\" x=\"2150\">NOUN</tspan>\n",
              "</text>\n",
              "\n",
              "<g class=\"displacy-arrow\">\n",
              "    <path class=\"displacy-arc\" id=\"arrow-b49fb869574744b8a15aada29299bc0d-0-0\" stroke-width=\"2px\" d=\"M70,264.5 C70,2.0 575.0,2.0 575.0,264.5\" fill=\"none\" stroke=\"currentColor\"/>\n",
              "    <text dy=\"1.25em\" style=\"font-size: 0.8em; letter-spacing: 1px\">\n",
              "        <textPath xlink:href=\"#arrow-b49fb869574744b8a15aada29299bc0d-0-0\" class=\"displacy-label\" startOffset=\"50%\" side=\"left\" fill=\"currentColor\" text-anchor=\"middle\">det</textPath>\n",
              "    </text>\n",
              "    <path class=\"displacy-arrowhead\" d=\"M70,266.5 L62,254.5 78,254.5\" fill=\"currentColor\"/>\n",
              "</g>\n",
              "\n",
              "<g class=\"displacy-arrow\">\n",
              "    <path class=\"displacy-arc\" id=\"arrow-b49fb869574744b8a15aada29299bc0d-0-1\" stroke-width=\"2px\" d=\"M245,264.5 C245,89.5 570.0,89.5 570.0,264.5\" fill=\"none\" stroke=\"currentColor\"/>\n",
              "    <text dy=\"1.25em\" style=\"font-size: 0.8em; letter-spacing: 1px\">\n",
              "        <textPath xlink:href=\"#arrow-b49fb869574744b8a15aada29299bc0d-0-1\" class=\"displacy-label\" startOffset=\"50%\" side=\"left\" fill=\"currentColor\" text-anchor=\"middle\">amod</textPath>\n",
              "    </text>\n",
              "    <path class=\"displacy-arrowhead\" d=\"M245,266.5 L237,254.5 253,254.5\" fill=\"currentColor\"/>\n",
              "</g>\n",
              "\n",
              "<g class=\"displacy-arrow\">\n",
              "    <path class=\"displacy-arc\" id=\"arrow-b49fb869574744b8a15aada29299bc0d-0-2\" stroke-width=\"2px\" d=\"M420,264.5 C420,177.0 565.0,177.0 565.0,264.5\" fill=\"none\" stroke=\"currentColor\"/>\n",
              "    <text dy=\"1.25em\" style=\"font-size: 0.8em; letter-spacing: 1px\">\n",
              "        <textPath xlink:href=\"#arrow-b49fb869574744b8a15aada29299bc0d-0-2\" class=\"displacy-label\" startOffset=\"50%\" side=\"left\" fill=\"currentColor\" text-anchor=\"middle\">amod</textPath>\n",
              "    </text>\n",
              "    <path class=\"displacy-arrowhead\" d=\"M420,266.5 L412,254.5 428,254.5\" fill=\"currentColor\"/>\n",
              "</g>\n",
              "\n",
              "<g class=\"displacy-arrow\">\n",
              "    <path class=\"displacy-arc\" id=\"arrow-b49fb869574744b8a15aada29299bc0d-0-3\" stroke-width=\"2px\" d=\"M595,264.5 C595,177.0 740.0,177.0 740.0,264.5\" fill=\"none\" stroke=\"currentColor\"/>\n",
              "    <text dy=\"1.25em\" style=\"font-size: 0.8em; letter-spacing: 1px\">\n",
              "        <textPath xlink:href=\"#arrow-b49fb869574744b8a15aada29299bc0d-0-3\" class=\"displacy-label\" startOffset=\"50%\" side=\"left\" fill=\"currentColor\" text-anchor=\"middle\">nsubj</textPath>\n",
              "    </text>\n",
              "    <path class=\"displacy-arrowhead\" d=\"M595,266.5 L587,254.5 603,254.5\" fill=\"currentColor\"/>\n",
              "</g>\n",
              "\n",
              "<g class=\"displacy-arrow\">\n",
              "    <path class=\"displacy-arc\" id=\"arrow-b49fb869574744b8a15aada29299bc0d-0-4\" stroke-width=\"2px\" d=\"M770,264.5 C770,177.0 915.0,177.0 915.0,264.5\" fill=\"none\" stroke=\"currentColor\"/>\n",
              "    <text dy=\"1.25em\" style=\"font-size: 0.8em; letter-spacing: 1px\">\n",
              "        <textPath xlink:href=\"#arrow-b49fb869574744b8a15aada29299bc0d-0-4\" class=\"displacy-label\" startOffset=\"50%\" side=\"left\" fill=\"currentColor\" text-anchor=\"middle\">prep</textPath>\n",
              "    </text>\n",
              "    <path class=\"displacy-arrowhead\" d=\"M915.0,266.5 L923.0,254.5 907.0,254.5\" fill=\"currentColor\"/>\n",
              "</g>\n",
              "\n",
              "<g class=\"displacy-arrow\">\n",
              "    <path class=\"displacy-arc\" id=\"arrow-b49fb869574744b8a15aada29299bc0d-0-5\" stroke-width=\"2px\" d=\"M1120,264.5 C1120,89.5 1445.0,89.5 1445.0,264.5\" fill=\"none\" stroke=\"currentColor\"/>\n",
              "    <text dy=\"1.25em\" style=\"font-size: 0.8em; letter-spacing: 1px\">\n",
              "        <textPath xlink:href=\"#arrow-b49fb869574744b8a15aada29299bc0d-0-5\" class=\"displacy-label\" startOffset=\"50%\" side=\"left\" fill=\"currentColor\" text-anchor=\"middle\">det</textPath>\n",
              "    </text>\n",
              "    <path class=\"displacy-arrowhead\" d=\"M1120,266.5 L1112,254.5 1128,254.5\" fill=\"currentColor\"/>\n",
              "</g>\n",
              "\n",
              "<g class=\"displacy-arrow\">\n",
              "    <path class=\"displacy-arc\" id=\"arrow-b49fb869574744b8a15aada29299bc0d-0-6\" stroke-width=\"2px\" d=\"M1295,264.5 C1295,177.0 1440.0,177.0 1440.0,264.5\" fill=\"none\" stroke=\"currentColor\"/>\n",
              "    <text dy=\"1.25em\" style=\"font-size: 0.8em; letter-spacing: 1px\">\n",
              "        <textPath xlink:href=\"#arrow-b49fb869574744b8a15aada29299bc0d-0-6\" class=\"displacy-label\" startOffset=\"50%\" side=\"left\" fill=\"currentColor\" text-anchor=\"middle\">amod</textPath>\n",
              "    </text>\n",
              "    <path class=\"displacy-arrowhead\" d=\"M1295,266.5 L1287,254.5 1303,254.5\" fill=\"currentColor\"/>\n",
              "</g>\n",
              "\n",
              "<g class=\"displacy-arrow\">\n",
              "    <path class=\"displacy-arc\" id=\"arrow-b49fb869574744b8a15aada29299bc0d-0-7\" stroke-width=\"2px\" d=\"M945,264.5 C945,2.0 1450.0,2.0 1450.0,264.5\" fill=\"none\" stroke=\"currentColor\"/>\n",
              "    <text dy=\"1.25em\" style=\"font-size: 0.8em; letter-spacing: 1px\">\n",
              "        <textPath xlink:href=\"#arrow-b49fb869574744b8a15aada29299bc0d-0-7\" class=\"displacy-label\" startOffset=\"50%\" side=\"left\" fill=\"currentColor\" text-anchor=\"middle\">pobj</textPath>\n",
              "    </text>\n",
              "    <path class=\"displacy-arrowhead\" d=\"M1450.0,266.5 L1458.0,254.5 1442.0,254.5\" fill=\"currentColor\"/>\n",
              "</g>\n",
              "\n",
              "<g class=\"displacy-arrow\">\n",
              "    <path class=\"displacy-arc\" id=\"arrow-b49fb869574744b8a15aada29299bc0d-0-8\" stroke-width=\"2px\" d=\"M1470,264.5 C1470,177.0 1615.0,177.0 1615.0,264.5\" fill=\"none\" stroke=\"currentColor\"/>\n",
              "    <text dy=\"1.25em\" style=\"font-size: 0.8em; letter-spacing: 1px\">\n",
              "        <textPath xlink:href=\"#arrow-b49fb869574744b8a15aada29299bc0d-0-8\" class=\"displacy-label\" startOffset=\"50%\" side=\"left\" fill=\"currentColor\" text-anchor=\"middle\">prep</textPath>\n",
              "    </text>\n",
              "    <path class=\"displacy-arrowhead\" d=\"M1615.0,266.5 L1623.0,254.5 1607.0,254.5\" fill=\"currentColor\"/>\n",
              "</g>\n",
              "\n",
              "<g class=\"displacy-arrow\">\n",
              "    <path class=\"displacy-arc\" id=\"arrow-b49fb869574744b8a15aada29299bc0d-0-9\" stroke-width=\"2px\" d=\"M1820,264.5 C1820,89.5 2145.0,89.5 2145.0,264.5\" fill=\"none\" stroke=\"currentColor\"/>\n",
              "    <text dy=\"1.25em\" style=\"font-size: 0.8em; letter-spacing: 1px\">\n",
              "        <textPath xlink:href=\"#arrow-b49fb869574744b8a15aada29299bc0d-0-9\" class=\"displacy-label\" startOffset=\"50%\" side=\"left\" fill=\"currentColor\" text-anchor=\"middle\">det</textPath>\n",
              "    </text>\n",
              "    <path class=\"displacy-arrowhead\" d=\"M1820,266.5 L1812,254.5 1828,254.5\" fill=\"currentColor\"/>\n",
              "</g>\n",
              "\n",
              "<g class=\"displacy-arrow\">\n",
              "    <path class=\"displacy-arc\" id=\"arrow-b49fb869574744b8a15aada29299bc0d-0-10\" stroke-width=\"2px\" d=\"M1995,264.5 C1995,177.0 2140.0,177.0 2140.0,264.5\" fill=\"none\" stroke=\"currentColor\"/>\n",
              "    <text dy=\"1.25em\" style=\"font-size: 0.8em; letter-spacing: 1px\">\n",
              "        <textPath xlink:href=\"#arrow-b49fb869574744b8a15aada29299bc0d-0-10\" class=\"displacy-label\" startOffset=\"50%\" side=\"left\" fill=\"currentColor\" text-anchor=\"middle\">compound</textPath>\n",
              "    </text>\n",
              "    <path class=\"displacy-arrowhead\" d=\"M1995,266.5 L1987,254.5 2003,254.5\" fill=\"currentColor\"/>\n",
              "</g>\n",
              "\n",
              "<g class=\"displacy-arrow\">\n",
              "    <path class=\"displacy-arc\" id=\"arrow-b49fb869574744b8a15aada29299bc0d-0-11\" stroke-width=\"2px\" d=\"M1645,264.5 C1645,2.0 2150.0,2.0 2150.0,264.5\" fill=\"none\" stroke=\"currentColor\"/>\n",
              "    <text dy=\"1.25em\" style=\"font-size: 0.8em; letter-spacing: 1px\">\n",
              "        <textPath xlink:href=\"#arrow-b49fb869574744b8a15aada29299bc0d-0-11\" class=\"displacy-label\" startOffset=\"50%\" side=\"left\" fill=\"currentColor\" text-anchor=\"middle\">pobj</textPath>\n",
              "    </text>\n",
              "    <path class=\"displacy-arrowhead\" d=\"M2150.0,266.5 L2158.0,254.5 2142.0,254.5\" fill=\"currentColor\"/>\n",
              "</g>\n",
              "</svg></span>"
            ]
          },
          "metadata": {}
        },
        {
          "output_type": "stream",
          "name": "stdout",
          "text": [
            "\n",
            "Noun Phrases (Chunks):\n",
            "The quick brown fox\n",
            "the lazy dog\n",
            "the river bank\n"
          ]
        }
      ]
    },
    {
      "cell_type": "code",
      "source": [
        "nltk.download('punkt_tab', quiet=True) # Download punkt_tab\n",
        "nltk.download('punkt')\n",
        "nltk.download('stopwords')\n",
        "nlp = spacy.load(\"en_core_web_sm\")\n"
      ],
      "metadata": {
        "colab": {
          "base_uri": "https://localhost:8080/"
        },
        "id": "yUkFFen-xCtk",
        "outputId": "9eaab23f-3297-4e90-d5f5-37761d982469"
      },
      "execution_count": null,
      "outputs": [
        {
          "output_type": "stream",
          "name": "stderr",
          "text": [
            "[nltk_data] Downloading package punkt to /root/nltk_data...\n",
            "[nltk_data]   Package punkt is already up-to-date!\n",
            "[nltk_data] Downloading package stopwords to /root/nltk_data...\n",
            "[nltk_data]   Package stopwords is already up-to-date!\n"
          ]
        }
      ]
    },
    {
      "cell_type": "markdown",
      "source": [
        "## 3.5 feature Selection + Dimensionality Reduction in NLP"
      ],
      "metadata": {
        "id": "XMGwync4we8a"
      }
    },
    {
      "cell_type": "code",
      "source": [
        "# Hands-on Demo: Feature Selection + Dimensionality Reduction in NLP\n",
        "# ---------------------------------------------------------------\n",
        "\n",
        "import time\n",
        "import numpy as np\n",
        "from sklearn.datasets import fetch_20newsgroups\n",
        "from sklearn.feature_extraction.text import TfidfVectorizer\n",
        "from sklearn.feature_selection import chi2, SelectKBest\n",
        "from sklearn.decomposition import TruncatedSVD\n",
        "from sklearn.linear_model import LogisticRegression\n",
        "from sklearn.metrics import classification_report, accuracy_score\n",
        "from sklearn.pipeline import make_pipeline\n",
        "from sklearn.model_selection import train_test_split\n",
        "\n",
        "\n",
        "categories = ['sci.space', 'rec.autos', 'comp.graphics', 'talk.politics.misc']  # 1. Load dataset (subset for speed)\n",
        "data = fetch_20newsgroups(subset='all', categories=categories, remove=('headers','footers','quotes'))\n",
        "\n",
        "X_train, X_test, y_train, y_test = train_test_split(data.data, data.target, test_size=0.3, random_state=42)\n",
        "\n",
        "tfidf = TfidfVectorizer(max_features=20000, stop_words='english') # 2. TF-IDF vectorization\n",
        "X_train_tfidf = tfidf.fit_transform(X_train)\n",
        "X_test_tfidf = tfidf.transform(X_test)\n",
        "\n",
        "print(\"TF-IDF shape:\", X_train_tfidf.shape)\n",
        "\n",
        "# 3. Baseline model with TF-IDF only\n",
        "clf = LogisticRegression(max_iter=1000)\n",
        "start = time.time()\n",
        "clf.fit(X_train_tfidf, y_train)\n",
        "pred = clf.predict(X_test_tfidf)\n",
        "print(\"\\nBaseline TF-IDF only:\")\n",
        "print(\"Accuracy:\", accuracy_score(y_test, pred))\n",
        "print(\"Time:\", round(time.time()-start,2), \"sec\")\n",
        "\n",
        "# 4. Apply Chi-Square feature selection\n",
        "k = 5000  # keep top 5000 features\n",
        "chi2_selector = SelectKBest(chi2, k=k)\n",
        "X_train_chi2 = chi2_selector.fit_transform(X_train_tfidf, y_train)\n",
        "X_test_chi2 = chi2_selector.transform(X_test_tfidf)\n",
        "\n",
        "clf_chi2 = LogisticRegression(max_iter=1000)\n",
        "start = time.time()\n",
        "clf_chi2.fit(X_train_chi2, y_train)\n",
        "pred_chi2 = clf_chi2.predict(X_test_chi2)\n",
        "print(\"\\nAfter Chi-Square feature selection (k=5000):\")\n",
        "print(\"Accuracy:\", accuracy_score(y_test, pred_chi2))\n",
        "print(\"Time:\", round(time.time()-start,2), \"sec\")\n",
        "\n",
        "# 5. Apply TruncatedSVD (LSA for sparse matrices)\n",
        "svd = TruncatedSVD(n_components=200, random_state=42)\n",
        "X_train_svd = svd.fit_transform(X_train_chi2)\n",
        "X_test_svd = svd.transform(X_test_chi2)\n",
        "\n",
        "clf_svd = LogisticRegression(max_iter=1000)\n",
        "start = time.time()\n",
        "clf_svd.fit(X_train_svd, y_train)\n",
        "pred_svd = clf_svd.predict(X_test_svd)\n",
        "print(\"\\nAfter Chi-Square + TruncatedSVD (200 components):\")\n",
        "print(\"Accuracy:\", accuracy_score(y_test, pred_svd))\n",
        "print(\"Time:\", round(time.time()-start,2), \"sec\")\n",
        "\n",
        "# 6. Final detailed report\n",
        "print(\"\\nClassification Report (SVD reduced):\")\n",
        "print(classification_report(y_test, pred_svd, target_names=categories))\n"
      ],
      "metadata": {
        "colab": {
          "base_uri": "https://localhost:8080/"
        },
        "id": "jW8OdDWnw_IF",
        "outputId": "4f6a38f3-7676-46a7-ac8e-72fa974f805e"
      },
      "execution_count": null,
      "outputs": [
        {
          "output_type": "stream",
          "name": "stdout",
          "text": [
            "TF-IDF shape: (2607, 20000)\n",
            "\n",
            "Baseline TF-IDF only:\n",
            "Accuracy: 0.8881932021466905\n",
            "Time: 2.92 sec\n",
            "\n",
            "After Chi-Square feature selection (k=5000):\n",
            "Accuracy: 0.8774597495527728\n",
            "Time: 0.51 sec\n",
            "\n",
            "After Chi-Square + TruncatedSVD (200 components):\n",
            "Accuracy: 0.8631484794275492\n",
            "Time: 0.5 sec\n",
            "\n",
            "Classification Report (SVD reduced):\n",
            "                    precision    recall  f1-score   support\n",
            "\n",
            "         sci.space       0.88      0.90      0.89       280\n",
            "         rec.autos       0.78      0.89      0.83       285\n",
            "     comp.graphics       0.91      0.83      0.87       331\n",
            "talk.politics.misc       0.90      0.82      0.86       222\n",
            "\n",
            "          accuracy                           0.86      1118\n",
            "         macro avg       0.87      0.86      0.86      1118\n",
            "      weighted avg       0.87      0.86      0.86      1118\n",
            "\n"
          ]
        }
      ]
    },
    {
      "cell_type": "markdown",
      "source": [
        "# Chapter 4 Word Embeddings"
      ],
      "metadata": {
        "id": "movB8p69IEXT"
      }
    },
    {
      "cell_type": "markdown",
      "source": [
        "## 4.1 Word2Vec"
      ],
      "metadata": {
        "id": "vi7fkLAHIPX7"
      }
    },
    {
      "cell_type": "code",
      "source": [
        "!pip install gensim\n",
        "from gensim.models import Word2Vec\n",
        "\n",
        "# Sample corpus\n",
        "# (this is not how actual data would be it can be in any format and more complex than this)\n",
        "sentences = [\n",
        "    ['king', 'is', 'a', 'strong', 'man'],\n",
        "    ['queen', 'is', 'a', 'wise', 'woman'],\n",
        "    ['boy', 'is', 'a', 'young', 'man'],\n",
        "    ['girl', 'is', 'a', 'young', 'woman'],\n",
        "    ['prince', 'is', 'a', 'young', 'king'],\n",
        "    ['princess', 'is', 'a', 'young', 'queen']\n",
        "]\n",
        "\n",
        "# Train Word2Vec model\n",
        "model = Word2Vec(sentences, vector_size=50, window=3, min_count=1, sg=1)\n",
        "\n",
        "# View vector for a word\n",
        "print(model.wv['king'])\n",
        "\n",
        "# Find similar words\n",
        "print(model.wv.most_similar('king'))\n"
      ],
      "metadata": {
        "colab": {
          "base_uri": "https://localhost:8080/"
        },
        "id": "vDUcXaCZITzI",
        "outputId": "81bef9f6-489d-42ee-9df9-9768e03fb356"
      },
      "execution_count": null,
      "outputs": [
        {
          "output_type": "stream",
          "name": "stdout",
          "text": [
            "[-0.01648536  0.01859871 -0.00039532 -0.00393455  0.00920726 -0.00819063\n",
            "  0.00548623  0.01387993  0.01213085 -0.01502159  0.0187647   0.00934362\n",
            "  0.00793224 -0.01248701  0.01691996 -0.00430033  0.01765038 -0.01072401\n",
            " -0.01625884  0.01364912  0.00334239 -0.00439702  0.0190272   0.01898771\n",
            " -0.01954809  0.00501046  0.01231338  0.00774491  0.00404557  0.000861\n",
            "  0.00134726 -0.00764127 -0.0142805  -0.00417774  0.0078478   0.01763737\n",
            "  0.0185183  -0.01195187 -0.01880534  0.01952875  0.00685957  0.01033223\n",
            "  0.01256469 -0.00560853  0.01464541  0.00566054  0.00574201 -0.00476074\n",
            " -0.0062565  -0.00474028]\n",
            "[('man', 0.18339456617832184), ('boy', 0.1694795936346054), ('princess', 0.11257125437259674), ('girl', 0.08992855995893478), ('young', 0.08873952925205231), ('is', 0.07402092218399048), ('wise', 0.06110018119215965), ('strong', -0.029589543119072914), ('woman', -0.04407210648059845), ('queen', -0.05621429532766342)]\n"
          ]
        }
      ]
    },
    {
      "cell_type": "markdown",
      "source": [
        "## 4.2 Glove"
      ],
      "metadata": {
        "id": "2i9B26N6eN3v"
      }
    },
    {
      "cell_type": "code",
      "source": [
        "# # Step 1: Download smaller GloVe file (50-dimensional)\n",
        "!wget http://nlp.stanford.edu/data/glove.6B.zip\n",
        "\n",
        "# # Step 2: Unzip (only extract the 50d file)\n",
        "!unzip -j glove.6B.zip glove.6B.50d.txt\n",
        "!pip install gensim\n",
        "# Step 3: Convert GloVe to Word2Vec format\n",
        "from gensim.scripts.glove2word2vec import glove2word2vec\n",
        "from gensim.models import KeyedVectors\n",
        "\n",
        "glove_input_file = 'glove.6B.50d.txt'\n",
        "w2v_out= 'glove.6B.50d.word2vec.txt'\n",
        "\n",
        "glove2word2vec(glove_input_file, w2v_out)\n",
        "\n",
        "# Step 4: Load model\n",
        "model = KeyedVectors.load_word2vec_format(w2v_out, binary=False)\n",
        "\n",
        "# Step 5: Test similarity\n",
        "print(\"Most similar to 'king':\")\n",
        "print(model.most_similar('king'))\n",
        "\n",
        "print(\"\\nAnalogy test — king - man + woman ≈ ?\")\n",
        "print(model.most_similar(positive=['king', 'woman'], negative=['man']))\n"
      ],
      "metadata": {
        "colab": {
          "base_uri": "https://localhost:8080/"
        },
        "id": "beB9B-y5P4Tl",
        "outputId": "b778c3cf-f44b-43cf-a963-5d6908340651"
      },
      "execution_count": null,
      "outputs": [
        {
          "output_type": "stream",
          "name": "stderr",
          "text": [
            "/tmp/ipython-input-1435751661.py:14: DeprecationWarning: Call to deprecated `glove2word2vec` (KeyedVectors.load_word2vec_format(.., binary=False, no_header=True) loads GLoVE text vectors.).\n",
            "  glove2word2vec(glove_input_file, w2v_out)\n"
          ]
        },
        {
          "output_type": "stream",
          "name": "stdout",
          "text": [
            "Most similar to 'king':\n",
            "[('prince', 0.8236179351806641), ('queen', 0.7839043140411377), ('ii', 0.7746230363845825), ('emperor', 0.7736247777938843), ('son', 0.766719400882721), ('uncle', 0.7627150416374207), ('kingdom', 0.7542160749435425), ('throne', 0.7539913654327393), ('brother', 0.7492411136627197), ('ruler', 0.7434253692626953)]\n",
            "\n",
            "Analogy test — king - man + woman ≈ ?\n",
            "[('queen', 0.8523604273796082), ('throne', 0.7664334177970886), ('prince', 0.7592144012451172), ('daughter', 0.7473883628845215), ('elizabeth', 0.7460219860076904), ('princess', 0.7424570322036743), ('kingdom', 0.7337412238121033), ('monarch', 0.721449077129364), ('eldest', 0.7184861898422241), ('widow', 0.7099431157112122)]\n"
          ]
        }
      ]
    },
    {
      "cell_type": "markdown",
      "source": [
        "## 4.3 FastText"
      ],
      "metadata": {
        "id": "YUuUrQ3ieQFM"
      }
    },
    {
      "cell_type": "code",
      "source": [
        "# FastText Example\n",
        "# ----------------\n",
        "\n",
        "# Install gensim if not already installed\n",
        "# !pip install gensim\n",
        "\n",
        "from gensim.models import FastText\n",
        "from sklearn.decomposition import PCA\n",
        "import matplotlib.pyplot as plt\n",
        "\n",
        "# 1. Sample training sentences\n",
        "sentences = [\n",
        "    [\"machine\", \"learning\", \"is\", \"fun\"],\n",
        "    [\"deep\", \"learning\", \"drives\", \"modern\", \"ai\"],\n",
        "    [\"ai\", \"is\", \"transforming\", \"healthcare\"],\n",
        "    [\"natural\", \"language\", \"processing\", \"makes\", \"computers\", \"understand\", \"text\"],\n",
        "    [\"fasttext\", \"handles\", \"rare\", \"and\", \"misspelled\", \"words\"]\n",
        "]\n",
        "\n",
        "# 2. Train the FastText model\n",
        "model = FastText(sentences, vector_size=50, window=3, min_count=1, sg=1, epochs=20)\n",
        "\n",
        "# 3. Check similar words\n",
        "print(\"Similar words to 'learning':\")\n",
        "print(model.wv.most_similar(\"learning\"))\n",
        "\n",
        "print(\"\\nVector representation of 'healthcare':\")\n",
        "print(model.wv['healthcare'][:10])  # print first 10 dimensions\n",
        "\n",
        "# 4. Visualize the embeddings\n",
        "words = list(model.wv.index_to_key)[:10]\n",
        "vectors = [model.wv[w] for w in words]\n",
        "\n",
        "pca = PCA(n_components=2)\n",
        "result = pca.fit_transform(vectors)\n",
        "\n",
        "plt.figure(figsize=(7, 7))\n",
        "plt.scatter(result[:, 0], result[:, 1])\n",
        "for i, word in enumerate(words):\n",
        "    plt.annotate(word, xy=(result[i, 0], result[i, 1]))\n",
        "plt.title(\"2D Visualization of FastText Word Embeddings\")\n",
        "plt.show()\n"
      ],
      "metadata": {
        "colab": {
          "base_uri": "https://localhost:8080/",
          "height": 763
        },
        "id": "0tP1ut9MeVXw",
        "outputId": "6c02790b-801c-4990-f988-8a2f8c7d354b"
      },
      "execution_count": null,
      "outputs": [
        {
          "output_type": "stream",
          "name": "stdout",
          "text": [
            "Similar words to 'learning':\n",
            "[('processing', 0.3129351735115051), ('transforming', 0.21879611909389496), ('natural', 0.199319526553154), ('language', 0.19556039571762085), ('fun', 0.1642589420080185), ('modern', 0.1615072637796402), ('is', 0.15469534695148468), ('ai', 0.14184783399105072), ('and', 0.12078704684972763), ('computers', 0.11787747591733932)]\n",
            "\n",
            "Vector representation of 'healthcare':\n",
            "[ 3.6113927e-04 -5.0463579e-05 -3.6785268e-04  1.9308964e-04\n",
            "  3.3790324e-04  1.2231952e-03  1.0699792e-03  6.0719997e-04\n",
            "  2.0000965e-03 -2.4436738e-03]\n"
          ]
        },
        {
          "output_type": "display_data",
          "data": {
            "text/plain": [
              "<Figure size 700x700 with 1 Axes>"
            ],
            "image/png": "[encoded data removed]"
          },
          "metadata": {}
        }
      ]
    }
  ]
}